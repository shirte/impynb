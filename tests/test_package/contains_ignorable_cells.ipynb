{
 "cells": [
  {
   "cell_type": "code",
   "execution_count": null,
   "id": "477610f0",
   "metadata": {},
   "outputs": [],
   "source": [
    "NOTEBOOK_WAS_IMPORTED = True"
   ]
  },
  {
   "cell_type": "code",
   "execution_count": null,
   "id": "9acb384b",
   "metadata": {},
   "outputs": [],
   "source": [
    "#!ignore\n",
    "CELL_WAS_IGNORED = False"
   ]
  }
 ],
 "metadata": {
  "language_info": {
   "name": "python"
  }
 },
 "nbformat": 4,
 "nbformat_minor": 5
}
