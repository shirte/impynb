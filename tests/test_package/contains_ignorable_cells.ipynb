{
 "cells": [
  {
   "cell_type": "code",
   "execution_count": null,
   "id": "0",
   "metadata": {},
   "outputs": [],
   "source": [
    "NOTEBOOK_WAS_IMPORTED = True"
   ]
  },
  {
   "cell_type": "code",
   "execution_count": null,
   "id": "1",
   "metadata": {},
   "outputs": [],
   "source": [
    "#!ignore\n",
    "CELL_WITH_SPECIAL_COMMENT_WAS_IGNORED = False"
   ]
  },
  {
   "cell_type": "code",
   "execution_count": null,
   "id": "2",
   "metadata": {
    "tags": [
     "remove_cell"
    ]
   },
   "outputs": [],
   "source": [
    "# This cell is tagged with \"remove_cell\". If your editor doesn't display tags, try\n",
    "# VSCode or JupyterLab. The package (impynb) will only ignore this cell if it was\n",
    "# configured via init(skip_cell_tags=['remove_cell']).\n",
    "CELL_WITH_TAG_WAS_IGNORED = False"
   ]
  }
 ],
 "metadata": {
  "language_info": {
   "name": "python"
  }
 },
 "nbformat": 4,
 "nbformat_minor": 5
}
