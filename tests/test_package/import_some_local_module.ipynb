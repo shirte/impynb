{
 "cells": [
  {
   "cell_type": "code",
   "execution_count": null,
   "id": "e53cdc87",
   "metadata": {},
   "outputs": [],
   "source": [
    "from . import some_module_to_import\n",
    "\n",
    "NOTEBOOK_WAS_IMPORTED_CORRECTLY = False\n",
    "\n",
    "if some_module_to_import.MODULE_WAS_IMPORTED:\n",
    "    NOTEBOOK_WAS_IMPORTED_CORRECTLY = True"
   ]
  }
 ],
 "metadata": {
  "language_info": {
   "name": "python"
  }
 },
 "nbformat": 4,
 "nbformat_minor": 5
}
