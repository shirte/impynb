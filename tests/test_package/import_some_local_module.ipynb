{
 "cells": [
  {
   "cell_type": "code",
   "execution_count": null,
   "id": "0",
   "metadata": {},
   "outputs": [],
   "source": [
    "import impynb\n",
    "from . import some_module_to_import\n",
    "\n",
    "NOTEBOOK_WAS_IMPORTED_CORRECTLY = False\n",
    "\n",
    "if some_module_to_import.MODULE_WAS_IMPORTED:\n",
    "    NOTEBOOK_WAS_IMPORTED_CORRECTLY = True"
   ]
  },
  {
   "cell_type": "code",
   "execution_count": null,
   "id": "1",
   "metadata": {},
   "outputs": [],
   "source": []
  }
 ],
 "metadata": {},
 "nbformat": 4,
 "nbformat_minor": 5
}
