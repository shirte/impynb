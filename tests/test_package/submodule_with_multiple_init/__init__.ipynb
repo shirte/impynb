{
 "cells": [
  {
   "cell_type": "code",
   "execution_count": null,
   "id": "0",
   "metadata": {},
   "outputs": [],
   "source": [
    "# this notebook should not be imported, because there is an __init__.py file in the\n",
    "# same directory\n",
    "raise ImportError(\"This notebook should not be imported.\")"
   ]
  }
 ],
 "metadata": {},
 "nbformat": 4,
 "nbformat_minor": 5
}
