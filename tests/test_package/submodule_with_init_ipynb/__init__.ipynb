{
 "cells": [
  {
   "cell_type": "code",
   "execution_count": null,
   "id": "ec2603b5",
   "metadata": {},
   "outputs": [],
   "source": [
    "NOTEBOOK_WAS_IMPORTED = True"
   ]
  },
  {
   "cell_type": "code",
   "execution_count": null,
   "id": "c54ae3dd",
   "metadata": {},
   "outputs": [],
   "source": [
    "from .other_module import *"
   ]
  }
 ],
 "metadata": {
  "language_info": {
   "name": "python"
  }
 },
 "nbformat": 4,
 "nbformat_minor": 5
}
