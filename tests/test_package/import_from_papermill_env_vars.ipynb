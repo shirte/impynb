{
 "cells": [
  {
   "cell_type": "code",
   "execution_count": null,
   "id": "0",
   "metadata": {},
   "outputs": [],
   "source": [
    "import impynb\n",
    "import os\n",
    "\n",
    "# When running a notebook with papermill, we get no indication whatsoever about the\n",
    "# notebook path. For that reason, we need to manually initialize impynb and provide the\n",
    "# notebook path. Here, we have set an environment variable `NOTEBOOK_PATH` that contains\n",
    "# the path.\n",
    "impynb.init(os.environ.get(\"NOTEBOOK_PATH\"))"
   ]
  },
  {
   "cell_type": "code",
   "execution_count": null,
   "id": "1",
   "metadata": {},
   "outputs": [],
   "source": [
    "from . import some_module_to_import\n",
    "\n",
    "NOTEBOOK_WAS_IMPORTED_CORRECTLY = False\n",
    "\n",
    "if some_module_to_import.MODULE_WAS_IMPORTED:\n",
    "    NOTEBOOK_WAS_IMPORTED_CORRECTLY = True"
   ]
  }
 ],
 "metadata": {},
 "nbformat": 4,
 "nbformat_minor": 5
}
