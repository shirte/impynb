{
 "cells": [
  {
   "cell_type": "code",
   "execution_count": null,
   "id": "3c254c5c",
   "metadata": {},
   "outputs": [],
   "source": [
    "NOTEBOOK_WAS_IMPORTED = True"
   ]
  }
 ],
 "metadata": {
  "language_info": {
   "name": "python"
  }
 },
 "nbformat": 4,
 "nbformat_minor": 5
}
