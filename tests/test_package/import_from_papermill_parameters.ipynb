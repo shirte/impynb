{
 "cells": [
  {
   "cell_type": "code",
   "execution_count": null,
   "id": "0",
   "metadata": {
    "tags": [
     "parameters"
    ]
   },
   "outputs": [],
   "source": [
    "# Note: this cell is tagged with \"parameters\" so papermill can do its magic\n",
    "NOTEBOOK_PATH = \"will_be_set_by_papermill\""
   ]
  },
  {
   "cell_type": "code",
   "execution_count": null,
   "id": "1",
   "metadata": {},
   "outputs": [],
   "source": [
    "import impynb\n",
    "\n",
    "# When running a notebook with papermill, we get no indication whatsoever about the\n",
    "# notebook path. For that reason, we need to manually initialize impynb and provide the\n",
    "# notebook path. Here, we use the notebook path provided via a papermill parameter.\n",
    "impynb.init(NOTEBOOK_PATH)"
   ]
  },
  {
   "cell_type": "code",
   "execution_count": null,
   "id": "2",
   "metadata": {},
   "outputs": [],
   "source": [
    "from . import some_module_to_import\n",
    "\n",
    "NOTEBOOK_WAS_IMPORTED_CORRECTLY = False\n",
    "\n",
    "if some_module_to_import.MODULE_WAS_IMPORTED:\n",
    "    NOTEBOOK_WAS_IMPORTED_CORRECTLY = True"
   ]
  }
 ],
 "metadata": {},
 "nbformat": 4,
 "nbformat_minor": 5
}
